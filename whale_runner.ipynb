{
 "cells": [
  {
   "cell_type": "code",
   "execution_count": null,
   "metadata": {},
   "outputs": [],
   "source": [
    "!mkdir /code\n",
    "!mkdir /kaggle/working/ckpt\n",
    "!cp /kaggle/input/whale-code/* /code\n",
    "!cp /kaggle/input/whale-code/*.state /kaggle/working/ckpt\n",
    "%cd /code\n",
    "!mkdir data\n",
    "!mv datasets.py data\n",
    "!mkdir networks\n",
    "!mv $(ls | grep -E '.*Network.py') networks\n",
    "!mkdir train_functions\n",
    "!mv $(ls | grep -E '.*_train.py') train_functions"
   ]
  },
  {
   "cell_type": "code",
   "execution_count": null,
   "metadata": {},
   "outputs": [],
   "source": [
    "!python main.py"
   ]
  },
  {
   "cell_type": "code",
   "execution_count": null,
   "metadata": {},
   "outputs": [],
   "source": [
    "import shutil\n",
    "shutil.make_archive(\"/kaggle/working/ckpt\", 'zip', \"/kaggle/working/ckpt\")"
   ]
  }
 ],
 "metadata": {
  "language_info": {
   "name": "python"
  },
  "orig_nbformat": 4
 },
 "nbformat": 4,
 "nbformat_minor": 2
}
